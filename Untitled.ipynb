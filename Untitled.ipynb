{
 "cells": [
  {
   "cell_type": "code",
   "execution_count": 2,
   "metadata": {},
   "outputs": [],
   "source": [
    "import json\n",
    "import pandas as pd\n",
    "import numpy as np"
   ]
  },
  {
   "cell_type": "code",
   "execution_count": 8,
   "metadata": {},
   "outputs": [
    {
     "name": "stdout",
     "output_type": "stream",
     "text": [
      "7311\n",
      "[{'url': 'https://en.wikipedia.org/wiki/The_Adventures_of_Ford_Fairlane', 'year': 1990, 'imdb_link': 'https://www.imdb.com/title/tt0098987/', 'title': 'The Adventures of Ford Fairlane', 'Directed by': 'Renny Harlin', 'Produced by': ['Steve Perry', 'Joel Silver'], 'Screenplay by': ['David Arnott', 'James Cappe', 'Daniel Waters'], 'Story by': ['David Arnott', 'James Cappe'], 'Based on': ['Characters', 'by Rex Weiner'], 'Starring': ['Andrew Dice Clay', 'Wayne Newton', 'Priscilla Presley', 'Lauren Holly', 'Morris Day', 'Robert Englund', \"Ed O'Neill\"], 'Narrated by': 'Andrew \"Dice\" Clay', 'Music by': ['Cliff Eidelman', 'Yello'], 'Cinematography': 'Oliver Wood', 'Edited by': 'Michael Tronick', 'Productioncompany ': 'Silver Pictures', 'Distributed by': '20th Century Fox', 'Release date': ['July 11, 1990', '(', '1990-07-11', ')'], 'Running time': '102 minutes', 'Country': 'United States', 'Language': 'English', 'Budget': '$20 million', 'Box office': '$21.4 million'}, {'url': 'https://en.wikipedia.org/wiki/After_Dark,_My_Sweet', 'year': 1990, 'imdb_link': 'https://www.imdb.com/title/tt0098994/', 'title': 'After Dark, My Sweet', 'Directed by': 'James Foley', 'Produced by': ['Ric Kidney', 'Robert Redlin'], 'Screenplay by': ['James Foley', 'Robert Redlin'], 'Based on': ['the novel', 'After Dark, My Sweet', 'by', 'Jim Thompson'], 'Starring': ['Jason Patric', 'Rachel Ward', 'Bruce Dern', 'George Dickerson'], 'Music by': 'Maurice Jarre', 'Cinematography': 'Mark Plummer', 'Edited by': 'Howard E. Smith', 'Productioncompany ': 'Avenue Pictures', 'Distributed by': 'Avenue Pictures', 'Release date': ['May 17, 1990', '(', '1990-05-17', ')', '(Cannes Film Market)', 'August 24, 1990', '(', '1990-08-24', ')', '(United States)'], 'Running time': '114 minutes', 'Country': 'United States', 'Language': 'English', 'Budget': '$6 million', 'Box office': '$2.7 million'}, {'url': 'https://en.wikipedia.org/wiki/Air_America_(film)', 'year': 1990, 'imdb_link': 'https://www.imdb.com/title/tt0099005/', 'title': 'Air America', 'Directed by': 'Roger Spottiswoode', 'Produced by': 'Daniel Melnick', 'Screenplay by': ['John Eskow', 'Richard Rush'], 'Based on': ['Air America', 'by', 'Christopher Robbins'], 'Starring': ['Mel Gibson', 'Robert Downey Jr.', 'Nancy Travis', 'David Marshall Grant', 'Lane Smith'], 'Music by': 'Charles Gross', 'Cinematography': 'Roger Deakins', 'Edited by': ['John Bloom', 'Lois Freeman-Fox'], 'Productioncompany ': ['Carolco Pictures', 'IndieProd Company'], 'Distributed by': 'TriStar Pictures', 'Release date': ['August 10, 1990', '(', '1990-08-10', ')'], 'Running time': '113 minutes', 'Country': 'United States', 'Language': ['English', 'Lao'], 'Budget': '$35 million', 'Box office': '$57,718,089'}, {'url': 'https://en.wikipedia.org/wiki/Alice_(1990_film)', 'year': 1990, 'imdb_link': 'https://www.imdb.com/title/tt0099012/', 'title': 'Alice', 'Directed by': 'Woody Allen', 'Produced by': 'Robert Greenhut', 'Written by': 'Woody Allen', 'Starring': ['Alec Baldwin', 'Blythe Danner', 'Judy Davis', 'Mia Farrow', 'William Hurt', 'Keye Luke', 'Joe Mantegna', 'Bernadette Peters'], 'Cinematography': 'Carlo Di Palma', 'Edited by': 'Susan E. Morse', 'Distributed by': 'Orion Pictures', 'Release date': ['December 25, 1990', '(', '1990-12-25', ')'], 'Running time': '106 minutes', 'Country': 'United States', 'Language': 'English', 'Budget': '$12 million', 'Box office': '$7,331,647'}, {'url': 'https://en.wikipedia.org/wiki/Almost_an_Angel', 'year': 1990, 'imdb_link': 'https://www.imdb.com/title/tt0099018/', 'title': 'Almost an Angel', 'Directed by': 'John Cornell', 'Produced by': 'John Cornell', 'Written by': 'Paul Hogan', 'Starring': ['Paul Hogan', 'Elias Koteas', 'Linda Kozlowski'], 'Music by': 'Maurice Jarre', 'Cinematography': 'Russell Boyd', 'Edited by': 'David Stiven', 'Distributed by': 'Paramount Pictures', 'Release date': 'December 19, 1990', 'Running time': '95 minutes', 'Country': 'US', 'Language': 'English', 'Budget': '$25 million', 'Box office': '$6,939,946 (USA)'}]\n",
      "Middle\n",
      "[{'url': 'https://en.wikipedia.org/wiki/Benji:_Off_the_Leash!', 'year': 2004, 'imdb_link': 'https://www.imdb.com/title/tt0315273/', 'title': 'Benji: Off the Leash!', 'Directed by': 'Joe Camp', 'Written by': 'Joe Camp', 'Starring': ['Benji', 'Nick Whitaker', 'Shaggy', 'Gypsy the Cockatoo'], 'Music by': 'Antonio di Lorenzo', 'Productioncompany ': 'Mulberry Square Productions', 'Distributed by': 'Mulberry Square Productions', 'Release date': ['March 26, 2004', '(', '2004-03-26', ')'], 'Running time': '97 min', 'Country': 'United States', 'Language': 'English', 'Box office': '$3,817,362'}, {'url': 'https://en.wikipedia.org/wiki/The_Best_Thief_in_the_World', 'year': 2004, 'imdb_link': 'https://www.imdb.com/title/tt0389796/', 'title': 'The Best Thief in the World', 'Directed by': 'Jacob Kornbluth', 'Produced by': ['Tim Perrell', 'Nicola Usborne'], 'Written by': 'Jacob Kornbluth', 'Starring': ['Marc Rozendaal', 'Michael Silverman', 'David Warshofsky', 'Audra McDonald', 'Lois Smith'], 'Music by': ['Prince Paul', 'and', 'Don Newkirk'], 'Cinematography': 'Ben Kutchins', 'Edited by': 'Stephanie Sterner', 'Distributed by': 'Showtime Networks', 'Release date': ['January 16, 2004', '(', '2004-01-16', ')'], 'Running time': '93 minutes', 'Country': 'United States', 'Language': 'English'}, {'url': 'https://en.wikipedia.org/wiki/Beyond_the_Sea_(2004_film)', 'year': 2004, 'imdb_link': 'https://www.imdb.com/title/tt0363473/', 'title': 'Beyond the Sea', 'Directed by': 'Kevin Spacey', 'Produced by': ['Kevin Spacey', 'Phillip Barry', 'Dana Brunetti', 'Arthur Friedman', 'Jan Fantl', 'Andy Paterson'], 'Written by': ['Lewis Colick', 'Kevin Spacey'], 'Starring': ['Kevin Spacey', 'Kate Bosworth', 'Bob Hoskins', 'John Goodman'], 'Music by': 'Bobby Darin', 'Cinematography': 'Eduardo Serra', 'Edited by': 'Trevor Waite', 'Productioncompany ': 'Trigger Street Productions', 'Distributed by': ['Lionsgate Films', '(USA)', 'Entertainment Film Distributors', '(UK)', 'GAGA', '(Japan)', 'Maple Pictures', '(Canada)'], 'Release date': ['December 17, 2004', '(', '2004-12-17', ')'], 'Running time': '118 minutes', 'Country': 'United States', 'Language': 'English', 'Budget': '$25 million', 'Box office': '$8.4 million'}, {'url': 'https://en.wikipedia.org/wiki/The_Big_Bounce_(2004_film)', 'year': 2004, 'imdb_link': 'https://www.imdb.com/title/tt0315824/', 'title': 'The Big Bounce', 'Directed by': 'George Armitage', 'Produced by': ['George Armitage', 'Steve Bing'], 'Screenplay by': 'Sebastian Gutierrez', 'Based on': ['The Big Bounce', 'by', 'Elmore Leonard'], 'Starring': ['Owen Wilson', 'Charlie Sheen', 'Morgan Freeman', 'Sara Foster', 'Gary Sinise'], 'Music by': 'George S. Clinton', 'Cinematography': 'Jeffrey L. Kimball', 'Edited by': 'Barry Malkin', 'Productioncompany ': 'Shangri-La Entertainment', 'Distributed by': 'Warner Bros. Pictures', 'Release date': ['January 30, 2004', '(', '2004-01-30', ')'], 'Running time': '88 minutes', 'Language': 'English', 'Budget': '$50 million', 'Box office': '$6.8 million'}, {'url': 'https://en.wikipedia.org/wiki/Birth_(film)', 'year': 2004, 'imdb_link': 'https://www.imdb.com/title/tt0337876/', 'title': 'Birth', 'Directed by': 'Jonathan Glazer', 'Produced by': ['Lizie Gower', 'Nick Morris', 'Jean-Louis Piel'], 'Written by': ['Jean-Claude Carrière', 'Milo Addica', 'Jonathan Glazer'], 'Starring': ['Nicole Kidman', 'Cameron Bright', 'Danny Huston', 'Lauren Bacall'], 'Music by': 'Alexandre Desplat', 'Cinematography': 'Harris Savides', 'Edited by': ['Sam Sneade', 'Claus Wehlisch'], 'Distributed by': 'New Line Cinema', 'Release date': ['November 8, 2004', '(', '2004-11-08', ')'], 'Running time': '96 minutes', 'Country': 'United States', 'Language': 'English', 'Budget': '$20 million', 'Box office': '$23.9 million'}]\n",
      "End\n",
      "[{'url': 'https://en.wikipedia.org/wiki/Holmes_%26_Watson', 'year': 2018, 'imdb_link': 'https://www.imdb.com/title/tt1255919/', 'title': 'Holmes & Watson', 'Directed by': 'Etan Cohen', 'Produced by': ['Will Ferrell', 'Adam McKay', 'Jimmy Miller', 'Clayton Townsend'], 'Screenplay by': 'Etan Cohen', 'Based on': ['Sherlock Holmes', 'and', 'Dr. Watson', 'by', 'Sir Arthur Conan Doyle'], 'Starring': ['Will Ferrell', 'John C. Reilly', 'Rebecca Hall', 'Rob Brydon', 'Steve Coogan', 'Ralph Fiennes'], 'Music by': 'Mark Mothersbaugh', 'Cinematography': 'Oliver Wood', 'Edited by': 'Dean Zimmerman', 'Productioncompanies ': ['Columbia Pictures', 'Gary Sanchez Productions', 'Mosaic Media Group', 'Mimran Schur Pictures'], 'Distributed by': 'Sony Pictures Releasing', 'Release date': ['December 25, 2018', '(', '2018-12-25', ')', '(United States)'], 'Running time': '90 minutes', 'Country': 'United States', 'Language': 'English', 'Budget': '$42 million', 'Box office': '$41.9 million'}, {'url': 'https://en.wikipedia.org/wiki/Vice_(2018_film)', 'year': 2018, 'imdb_link': 'https://www.imdb.com/title/tt6266538/', 'title': 'Vice', 'Directed by': 'Adam McKay', 'Produced by': ['Brad Pitt', 'Dede Gardner', 'Jeremy Kleiner', 'Kevin J. Messick', 'Will Ferrell', 'Adam McKay'], 'Written by': 'Adam McKay', 'Starring': ['Christian Bale', 'Amy Adams', 'Steve Carell', 'Sam Rockwell', 'Tyler Perry', 'Alison Pill', 'Lily Rabe', 'Jesse Plemons'], 'Music by': 'Nicholas Britell', 'Cinematography': 'Greig Fraser', 'Edited by': 'Hank Corwin', 'Productioncompany ': ['Plan B Entertainment', 'Gary Sanchez Productions', 'Annapurna Pictures'], 'Distributed by': 'Mirror Releasing', 'Release date': ['December 11, 2018', '(', '2018-12-11', ')', '(', 'Samuel Goldwyn Theater', ')', 'December 25, 2018', '(', '2018-12-25', ')', '(United States)'], 'Running time': '132 minutes', 'Country': 'United States', 'Language': 'English', 'Budget': '$60 million', 'Box office': '$76.1 million'}, {'url': 'https://en.wikipedia.org/wiki/On_the_Basis_of_Sex', 'year': 2018, 'imdb_link': 'https://www.imdb.com/title/tt4669788/', 'title': 'On the Basis of Sex', 'Directed by': 'Mimi Leder', 'Produced by': 'Robert W. Cort', 'Written by': 'Daniel Stiepleman', 'Starring': ['Felicity Jones', 'Armie Hammer', 'Justin Theroux', 'Sam Waterston', 'Kathy Bates'], 'Music by': 'Mychael Danna', 'Cinematography': 'Michael Grady', 'Edited by': 'Michelle Tesoro', 'Productioncompanies ': ['Focus Features', '[1]', 'Participant Media', '[1]', 'Robert Cort Productions', '[1]', 'Alibaba Pictures', '[2]'], 'Distributed by': 'Focus Features', 'Release date': ['November 8, 2018', '(', '2018-11-08', ')', '(', 'AFI Fest', ')', 'December 25, 2018', '(', '2018-12-25', ')', '(United States)'], 'Running time': '120 minutes', 'Country': 'United States', 'Language': 'English', 'Budget': '$20 million', 'Box office': '$38.4 million'}, {'url': 'https://en.wikipedia.org/wiki/Destroyer_(2018_film)', 'year': 2018, 'imdb_link': 'https://www.imdb.com/title/tt7137380/', 'title': 'Destroyer', 'Directed by': 'Karyn Kusama', 'Produced by': ['Fred Berger', 'Phil Hay', 'Matt Manfredi'], 'Written by': ['Phil Hay', 'Matt Manfredi'], 'Starring': ['Nicole Kidman', 'Sebastian Stan', 'Toby Kebbell', 'Tatiana Maslany', 'Bradley Whitford', 'Jade Pettyjohn', 'Scoot McNairy'], 'Music by': 'Theodore Shapiro', 'Cinematography': 'Julie Kirkwood', 'Edited by': 'Plummy Tucker', 'Productioncompany ': ['30West', 'Automatik Entertainment', 'Annapurna Pictures'], 'Distributed by': 'Mirror Releasing', 'Release date': ['August 31, 2018', '(', '2018-08-31', ')', '(', 'Telluride', ')', 'December 25, 2018', '(', '2018-12-25', ')', '(United States)'], 'Running time': '123 minutes', 'Country': 'United States', 'Language': 'English', 'Budget': '$9 million', 'Box office': '$5.5 million'}, {'url': 'https://en.wikipedia.org/wiki/Black_Mirror:_Bandersnatch', 'year': 2018, 'imdb_link': 'https://www.imdb.com/title/tt9495224/', 'title': 'Bandersnatch', 'Directed by': 'David Slade', 'Produced by': 'Russell McLean', 'Written by': 'Charlie Brooker', 'Starring': ['Fionn Whitehead', 'Will Poulter', 'Craig Parkinson', 'Alice Lowe', 'Asim Chaudhry'], 'Music by': 'Brian Reitzell', 'Cinematography': ['Aaron Morton', 'Jake Polonsky'], 'Edited by': 'Tony Kearns', 'Productioncompany ': ['House of Tomorrow', 'Netflix'], 'Distributed by': 'Netflix', 'Release date': ['28 December 2018', '(', '2018-12-28', ')'], 'Running time': 'Variable; 90 minutes for default path', 'Country': 'United Kingdom', 'Language': 'English'}]\n"
     ]
    }
   ],
   "source": [
    "with open('wikipedia-movies.json', mode='r') as file:\n",
    "    wiki_movies_raw = json.load(file)\n",
    "    print(len(wiki_movies_raw))\n",
    "    \n",
    "    # First 5 records\n",
    "    print(wiki_movies_raw[:5])\n",
    "    \n",
    "    # Some records in the middle\n",
    "    print('Middle')\n",
    "    print(wiki_movies_raw[3600:3605])\n",
    "    \n",
    "    # Last 5 records\n",
    "    print('End')\n",
    "    print(wiki_movies_raw[-5:])\n",
    "    \n"
   ]
  },
  {
   "cell_type": "code",
   "execution_count": null,
   "metadata": {},
   "outputs": [],
   "source": []
  }
 ],
 "metadata": {
  "kernelspec": {
   "display_name": "PythonData",
   "language": "python",
   "name": "pythondata"
  },
  "language_info": {
   "codemirror_mode": {
    "name": "ipython",
    "version": 3
   },
   "file_extension": ".py",
   "mimetype": "text/x-python",
   "name": "python",
   "nbconvert_exporter": "python",
   "pygments_lexer": "ipython3",
   "version": "3.7.3"
  }
 },
 "nbformat": 4,
 "nbformat_minor": 4
}
